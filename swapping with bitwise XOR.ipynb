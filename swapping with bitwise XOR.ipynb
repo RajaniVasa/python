{
 "cells": [
  {
   "cell_type": "code",
   "execution_count": null,
   "id": "2dae69d1-b4fa-4801-8ab3-0e4c83f71d85",
   "metadata": {},
   "outputs": [],
   "source": [
    "#swapping with bitwise XOR\n",
    "a=int(input('enter the value of a:'))\n",
    "b=int(input('enter the value of b:'))\n",
    "a=a^b\n",
    "b=a^b\n",
    "a=a^b\n",
    "print('after swapping a=',a ,'b=',b)"
   ]
  }
 ],
 "metadata": {
  "kernelspec": {
   "display_name": "Python 3 (ipykernel)",
   "language": "python",
   "name": "python3"
  },
  "language_info": {
   "codemirror_mode": {
    "name": "ipython",
    "version": 3
   },
   "file_extension": ".py",
   "mimetype": "text/x-python",
   "name": "python",
   "nbconvert_exporter": "python",
   "pygments_lexer": "ipython3",
   "version": "3.12.7"
  }
 },
 "nbformat": 4,
 "nbformat_minor": 5
}
