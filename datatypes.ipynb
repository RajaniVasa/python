{
 "cells": [
  {
   "cell_type": "code",
   "execution_count": null,
   "id": "534e76df-13f1-491d-a285-fddedd3fc9a8",
   "metadata": {},
   "outputs": [],
   "source": [
    "info={\n",
    "    (489.090, 89760):'vijayawada',\n",
    "    (345.3, 87.90):'rajani'\n",
    "}\n",
    "print(info[(345.3, 87.90)])"
   ]
  }
 ],
 "metadata": {
  "kernelspec": {
   "display_name": "Python 3 (ipykernel)",
   "language": "python",
   "name": "python3"
  },
  "language_info": {
   "codemirror_mode": {
    "name": "ipython",
    "version": 3
   },
   "file_extension": ".py",
   "mimetype": "text/x-python",
   "name": "python",
   "nbconvert_exporter": "python",
   "pygments_lexer": "ipython3",
   "version": "3.12.7"
  }
 },
 "nbformat": 4,
 "nbformat_minor": 5
}
