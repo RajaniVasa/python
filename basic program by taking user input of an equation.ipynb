{
 "cells": [
  {
   "cell_type": "code",
   "execution_count": null,
   "id": "f215c73f-df9d-47e5-bd15-f255ceeff638",
   "metadata": {},
   "outputs": [],
   "source": [
    "#program for basic operations by taking user input of an equation\n",
    "#ax^2+bx+c\n",
    "a=int(input('enter the value of a:'))\n",
    "b=int(input('enter the value of b:'))\n",
    "c=int(input('enter the value of c:'))\n",
    "x=int(input('enter the value of x:'))\n",
    "result=a*(x**2)+b*x+c\n",
    "print(\"the result of the eqaution is\",result)"
   ]
  }
 ],
 "metadata": {
  "kernelspec": {
   "display_name": "Python 3 (ipykernel)",
   "language": "python",
   "name": "python3"
  },
  "language_info": {
   "codemirror_mode": {
    "name": "ipython",
    "version": 3
   },
   "file_extension": ".py",
   "mimetype": "text/x-python",
   "name": "python",
   "nbconvert_exporter": "python",
   "pygments_lexer": "ipython3",
   "version": "3.12.7"
  }
 },
 "nbformat": 4,
 "nbformat_minor": 5
}
