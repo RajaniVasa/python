{
 "cells": [
  {
   "cell_type": "code",
   "execution_count": null,
   "id": "12a50cf8-7e0f-4a7e-b2e9-c5303e67449c",
   "metadata": {},
   "outputs": [],
   "source": [
    "#dates difference\n",
    "from datetime import date\n",
    "today=date.today()\n",
    "name=today.strftime('%A')\n",
    "print('Today:',name)"
   ]
  }
 ],
 "metadata": {
  "kernelspec": {
   "display_name": "Python 3 (ipykernel)",
   "language": "python",
   "name": "python3"
  },
  "language_info": {
   "codemirror_mode": {
    "name": "ipython",
    "version": 3
   },
   "file_extension": ".py",
   "mimetype": "text/x-python",
   "name": "python",
   "nbconvert_exporter": "python",
   "pygments_lexer": "ipython3",
   "version": "3.12.7"
  }
 },
 "nbformat": 4,
 "nbformat_minor": 5
}
