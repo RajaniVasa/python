{
 "cells": [
  {
   "cell_type": "code",
   "execution_count": null,
   "id": "fea79062-f5b9-4bd8-a7df-aca0ac75b24a",
   "metadata": {},
   "outputs": [],
   "source": [
    "pin=int(input('enter your 4-digit pin number:'))\n",
    "spin=1234\n",
    "balance=5000\n",
    "if pin==spin:\n",
    "    print('Access Granted')\n",
    "    withdraw=int(input('enter amount:'))\n",
    "    if withdraw>balance:\n",
    "        print('Insufficient funds!!')\n",
    "    else:\n",
    "        print('Amount withdraw:',withdraw)\n",
    "        print('Remaining balance:',balance-withdraw)\n",
    "        print('Thankyou for banking with ICICI...')\n",
    "else:\n",
    "    print('Access denied...Wrong pin')"
   ]
  }
 ],
 "metadata": {
  "kernelspec": {
   "display_name": "Python 3 (ipykernel)",
   "language": "python",
   "name": "python3"
  },
  "language_info": {
   "codemirror_mode": {
    "name": "ipython",
    "version": 3
   },
   "file_extension": ".py",
   "mimetype": "text/x-python",
   "name": "python",
   "nbconvert_exporter": "python",
   "pygments_lexer": "ipython3",
   "version": "3.12.7"
  }
 },
 "nbformat": 4,
 "nbformat_minor": 5
}
