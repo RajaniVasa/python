{
 "cells": [
  {
   "cell_type": "code",
   "execution_count": null,
   "id": "b9b2cf9b-266b-40d3-906e-8e764a9f5640",
   "metadata": {},
   "outputs": [],
   "source": [
    "num=int(input('enter the number:'))\n",
    "temp=num\n",
    "sum=0\n",
    "while temp>0:\n",
    "    digit=temp%10\n",
    "    sum+=digit\n",
    "    temp//=10\n",
    "print('Latest values of sum:',sum)\n",
    "print('Latest values of temp:',temp)\n",
    "if num%sum==0:\n",
    "    print(num,'is nivens number')\n",
    "else:\n",
    "    print(num,'is not nivens number')"
   ]
  }
 ],
 "metadata": {
  "kernelspec": {
   "display_name": "Python 3 (ipykernel)",
   "language": "python",
   "name": "python3"
  },
  "language_info": {
   "codemirror_mode": {
    "name": "ipython",
    "version": 3
   },
   "file_extension": ".py",
   "mimetype": "text/x-python",
   "name": "python",
   "nbconvert_exporter": "python",
   "pygments_lexer": "ipython3",
   "version": "3.12.7"
  }
 },
 "nbformat": 4,
 "nbformat_minor": 5
}
