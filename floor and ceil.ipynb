{
 "cells": [
  {
   "cell_type": "code",
   "execution_count": null,
   "id": "f1b3a261-4129-4cc3-a88b-ac254b10aefd",
   "metadata": {},
   "outputs": [],
   "source": [
    "from math import floor, ceil\n",
    "num=7.3\n",
    "print('floor',floor(num))\n",
    "print('ceil',ceil(num))"
   ]
  }
 ],
 "metadata": {
  "kernelspec": {
   "display_name": "Python 3 (ipykernel)",
   "language": "python",
   "name": "python3"
  },
  "language_info": {
   "codemirror_mode": {
    "name": "ipython",
    "version": 3
   },
   "file_extension": ".py",
   "mimetype": "text/x-python",
   "name": "python",
   "nbconvert_exporter": "python",
   "pygments_lexer": "ipython3",
   "version": "3.12.7"
  }
 },
 "nbformat": 4,
 "nbformat_minor": 5
}
