{
 "cells": [
  {
   "cell_type": "code",
   "execution_count": null,
   "id": "84ff330b-8feb-4a65-944d-1170858b4e28",
   "metadata": {},
   "outputs": [],
   "source": [
    "#trigonometric functions\n",
    "from math import sin, cos, tan, radians\n",
    "angle=30\n",
    "print(sin(radians(angle)))\n",
    "print(cos(radians(angle)))\n",
    "print(tan(radians(angle)))"
   ]
  }
 ],
 "metadata": {
  "kernelspec": {
   "display_name": "Python 3 (ipykernel)",
   "language": "python",
   "name": "python3"
  },
  "language_info": {
   "codemirror_mode": {
    "name": "ipython",
    "version": 3
   },
   "file_extension": ".py",
   "mimetype": "text/x-python",
   "name": "python",
   "nbconvert_exporter": "python",
   "pygments_lexer": "ipython3",
   "version": "3.12.7"
  }
 },
 "nbformat": 4,
 "nbformat_minor": 5
}
