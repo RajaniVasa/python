{
 "cells": [
  {
   "cell_type": "code",
   "execution_count": 1,
   "id": "f25c0a54-5879-4deb-bd9f-d8d4a352a57e",
   "metadata": {},
   "outputs": [
    {
     "name": "stdin",
     "output_type": "stream",
     "text": [
      "enter the number 897\n"
     ]
    },
    {
     "name": "stdout",
     "output_type": "stream",
     "text": [
      "positive number\n",
      "odd\n"
     ]
    }
   ],
   "source": [
    "num=int(input('enter the number'))\n",
    "if num>0:\n",
    "    print('positive number')\n",
    "    if num%2!=1:\n",
    "       print('even')\n",
    "    else:\n",
    "        print('odd')\n",
    "else:\n",
    "   print('negative number')  \n",
    "                    "
   ]
  },
  {
   "cell_type": "code",
   "execution_count": null,
   "id": "a275d5da-e783-442d-ae7a-f537d47f41b3",
   "metadata": {},
   "outputs": [],
   "source": []
  }
 ],
 "metadata": {
  "kernelspec": {
   "display_name": "Python 3 (ipykernel)",
   "language": "python",
   "name": "python3"
  },
  "language_info": {
   "codemirror_mode": {
    "name": "ipython",
    "version": 3
   },
   "file_extension": ".py",
   "mimetype": "text/x-python",
   "name": "python",
   "nbconvert_exporter": "python",
   "pygments_lexer": "ipython3",
   "version": "3.12.7"
  }
 },
 "nbformat": 4,
 "nbformat_minor": 5
}
