{
 "cells": [
  {
   "cell_type": "code",
   "execution_count": null,
   "id": "b3f061cb-3970-452a-91b0-7e697ebe5d01",
   "metadata": {},
   "outputs": [],
   "source": [
    "#calculating area and circumference of a circle \n",
    "r=float(input('enter the value of radius:'))\n",
    "pi=3.14159\n",
    "circumference=2*pi*r\n",
    "area=pi*(r**2)\n",
    "print('area of a circle:',area)\n",
    "print('circumference of a circle:',circumference)"
   ]
  }
 ],
 "metadata": {
  "kernelspec": {
   "display_name": "Python 3 (ipykernel)",
   "language": "python",
   "name": "python3"
  },
  "language_info": {
   "codemirror_mode": {
    "name": "ipython",
    "version": 3
   },
   "file_extension": ".py",
   "mimetype": "text/x-python",
   "name": "python",
   "nbconvert_exporter": "python",
   "pygments_lexer": "ipython3",
   "version": "3.12.7"
  }
 },
 "nbformat": 4,
 "nbformat_minor": 5
}
