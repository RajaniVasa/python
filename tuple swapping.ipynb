{
 "cells": [
  {
   "cell_type": "code",
   "execution_count": null,
   "id": "4fe1e285-7245-4598-ba52-9be04479ce1b",
   "metadata": {},
   "outputs": [],
   "source": [
    "#swapping of numbers(tuple swap)\n",
    "a=int(input('enter the value of a:'))\n",
    "b=int(input('enter the value of b:'))\n",
    "print('before swapping',a,b)\n",
    "a,b=b,a\n",
    "print('after swapping',a,b)"
   ]
  }
 ],
 "metadata": {
  "kernelspec": {
   "display_name": "Python 3 (ipykernel)",
   "language": "python",
   "name": "python3"
  },
  "language_info": {
   "codemirror_mode": {
    "name": "ipython",
    "version": 3
   },
   "file_extension": ".py",
   "mimetype": "text/x-python",
   "name": "python",
   "nbconvert_exporter": "python",
   "pygments_lexer": "ipython3",
   "version": "3.12.7"
  }
 },
 "nbformat": 4,
 "nbformat_minor": 5
}
